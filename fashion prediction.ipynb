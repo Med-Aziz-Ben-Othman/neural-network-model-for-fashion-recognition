{
 "cells": [
  {
   "cell_type": "code",
   "execution_count": 1,
   "id": "e6acf3a2",
   "metadata": {},
   "outputs": [],
   "source": [
    "#in this code we will try to learn a model how to pridict data from the dataset fashion_minist which is a dataset with a \n",
    "#70000 data labaled in 10 classes 60000 to train and 10000 to test\n",
    "import tensorflow as tf\n",
    "from tensorflow import keras"
   ]
  },
  {
   "cell_type": "code",
   "execution_count": 2,
   "id": "d8aa9100",
   "metadata": {},
   "outputs": [],
   "source": [
    "#the partition of the training data for training and testing/validating \n",
    "(x_train, y_train), (x_val, y_val) = keras.datasets.fashion_mnist.load_data() "
   ]
  },
  {
   "cell_type": "code",
   "execution_count": 3,
   "id": "7ccaf84a",
   "metadata": {},
   "outputs": [],
   "source": [
    "#preprocessing section  \n",
    "def preprocess(x, y):\n",
    "  x = tf.cast(x, tf.float32) / 255.0 #tf.cast change the original value to the new one in this case to a float\n",
    "  y = tf.cast(y, tf.int64)\n",
    "\n",
    "  return x, y\n",
    "\n",
    "def create_dataset(xs, ys, n_classes=10):\n",
    "  ys = tf.one_hot(ys, depth=n_classes) #makeing vectors from the data using one_hot \n",
    "  return tf.data.Dataset.from_tensor_slices((xs, ys)) \\\n",
    "    .map(preprocess) \\\n",
    "    .shuffle(len(ys)) \\\n",
    "    .batch(128)         #Then we use shuffle and batch to convert the data into chunks,We don’t want our model to make predictions based on the order of the training data, so we just shuffle it"
   ]
  },
  {
   "cell_type": "code",
   "execution_count": 4,
   "id": "99d5140d",
   "metadata": {},
   "outputs": [],
   "source": [
    "train_dataset = create_dataset(x_train, y_train)# the creation of train_dataset to use it later in the training phase using the function we created in the preprocessing section\n",
    "val_dataset = create_dataset(x_val, y_val)#creation of Val_dataset to use it later "
   ]
  },
  {
   "cell_type": "code",
   "execution_count": 5,
   "id": "1b51e158",
   "metadata": {},
   "outputs": [],
   "source": [
    "#creation of the neural network \n",
    "#it containes 5 layers , Reshape as an input layer (we used Reshape because we want to change the shape of the input data from 2d to one array)\n",
    "#4 Dense(interconnected) layers ,units refers to the number of neurons , with an activation function called relu\n",
    "#the last layer is a bit defirent it has 10 neuron cause we have 10 classes in our model with an activation function called softmax\n",
    "model = keras.Sequential([\n",
    "    keras.layers.Reshape(target_shape=(28 * 28,), input_shape=(28, 28)),#creation of the input layer type Reshape \n",
    "    keras.layers.Dense(units=256, activation='relu'), \n",
    "    keras.layers.Dense(units=192, activation='relu'),\n",
    "    keras.layers.Dense(units=128, activation='relu'),\n",
    "    keras.layers.Dense(units=10, activation='softmax')\n",
    "])"
   ]
  },
  {
   "cell_type": "code",
   "execution_count": 6,
   "id": "1e98ebfa",
   "metadata": {},
   "outputs": [
    {
     "name": "stdout",
     "output_type": "stream",
     "text": [
      "Epoch 1/10\n",
      "500/500 [==============================] - 25s 20ms/step - loss: 1.0909 - accuracy: 0.6542 - val_loss: 0.7197 - val_accuracy: 0.7539\n",
      "Epoch 2/10\n",
      "500/500 [==============================] - 11s 23ms/step - loss: 0.6061 - accuracy: 0.7959 - val_loss: 0.5276 - val_accuracy: 0.8320\n",
      "Epoch 3/10\n",
      "500/500 [==============================] - 11s 22ms/step - loss: 0.5276 - accuracy: 0.8174 - val_loss: 0.4961 - val_accuracy: 0.8281\n",
      "Epoch 4/10\n",
      "500/500 [==============================] - 11s 21ms/step - loss: 0.4860 - accuracy: 0.8299 - val_loss: 0.5413 - val_accuracy: 0.7930\n",
      "Epoch 5/10\n",
      "500/500 [==============================] - 11s 23ms/step - loss: 0.4623 - accuracy: 0.8374 - val_loss: 0.4632 - val_accuracy: 0.8320\n",
      "Epoch 6/10\n",
      "500/500 [==============================] - 11s 23ms/step - loss: 0.4437 - accuracy: 0.8463 - val_loss: 0.4752 - val_accuracy: 0.8281\n",
      "Epoch 7/10\n",
      "500/500 [==============================] - 12s 23ms/step - loss: 0.4308 - accuracy: 0.8480 - val_loss: 0.5170 - val_accuracy: 0.8359\n",
      "Epoch 8/10\n",
      "500/500 [==============================] - 11s 22ms/step - loss: 0.4224 - accuracy: 0.8520 - val_loss: 0.3762 - val_accuracy: 0.8750\n",
      "Epoch 9/10\n",
      "500/500 [==============================] - 11s 23ms/step - loss: 0.4071 - accuracy: 0.8565 - val_loss: 0.4340 - val_accuracy: 0.8633\n",
      "Epoch 10/10\n",
      "500/500 [==============================] - 11s 22ms/step - loss: 0.3977 - accuracy: 0.8606 - val_loss: 0.4763 - val_accuracy: 0.8320\n"
     ]
    }
   ],
   "source": [
    "#Training our neural network \n",
    "#Tensorflow allows us to choose an optimizer and a loss function in this case i used sgd as an optimizer and Categorical cross entropy as a loss function \n",
    "#compile the model \n",
    "model.compile(optimizer='sgd', \n",
    "              loss=tf.losses.CategoricalCrossentropy(),\n",
    "              metrics=['accuracy'])\n",
    "#fit the model \n",
    "history = model.fit(\n",
    "    train_dataset.repeat(), \n",
    "    epochs=10, \n",
    "    steps_per_epoch=500,\n",
    "    validation_data=val_dataset.repeat(), \n",
    "    validation_steps=2,\n",
    "   \n",
    ")"
   ]
  },
  {
   "cell_type": "code",
   "execution_count": 7,
   "id": "c4710f8b",
   "metadata": {},
   "outputs": [
    {
     "name": "stdout",
     "output_type": "stream",
     "text": [
      "469/469 [==============================] - 7s 13ms/step - loss: 0.3875 - accuracy: 0.8661\n"
     ]
    }
   ],
   "source": [
    "loss = model.evaluate(train_dataset )"
   ]
  },
  {
   "cell_type": "code",
   "execution_count": 8,
   "id": "8ca7b01e",
   "metadata": {},
   "outputs": [],
   "source": [
    "predicted = model.predict(x_val)"
   ]
  },
  {
   "cell_type": "code",
   "execution_count": 59,
   "id": "85f283af",
   "metadata": {},
   "outputs": [
    {
     "data": {
      "image/png": "[encoded data removed]",
      "text/plain": [
       "<Figure size 432x288 with 1 Axes>"
      ]
     },
     "metadata": {
      "needs_background": "light"
     },
     "output_type": "display_data"
    }
   ],
   "source": [
    "import matplotlib.pyplot as plt\n",
    "import numpy as  np \n",
    "classes =[\"T-shirt/top\",\"Trouser\",\"Pullover\",\"Dress\",\"Coat\",\"Sandal\",\"Shirt\",\"Sneaker\",\"Bag\",\"Ankle boot\" ]\n",
    "\n",
    "images = x_val.reshape((-1, 28, 28))\n",
    "select = np.random.randint(images.shape[0], size=1)\n",
    "for index, value in enumerate(select):\n",
    " plt.subplot(3,4,index+1)\n",
    " plt.axis('off')\n",
    " plt.imshow(images[value],cmap=plt.cm.gray_r,interpolation=\"nearest\")\n",
    " pred=predicted[value]\n",
    " indices = [index for index, item in enumerate(pred) if item == max(pred)]\n",
    " num_class=indices[0]\n",
    " plt.title('Predicted: {}'.format(classes[num_class]) )\n",
    "\n",
    "\n",
    "\n",
    "plt.show()\n",
    "\n",
    "\n"
   ]
  }
 ],
 "metadata": {
  "kernelspec": {
   "display_name": "Python 3",
   "language": "python",
   "name": "python3"
  },
  "language_info": {
   "codemirror_mode": {
    "name": "ipython",
    "version": 3
   },
   "file_extension": ".py",
   "mimetype": "text/x-python",
   "name": "python",
   "nbconvert_exporter": "python",
   "pygments_lexer": "ipython3",
   "version": "3.8.12"
  }
 },
 "nbformat": 4,
 "nbformat_minor": 5
}
